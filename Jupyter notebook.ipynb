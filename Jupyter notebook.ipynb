{
 "cells": [
  {
   "cell_type": "markdown",
   "metadata": {},
   "source": [
    "# First Let's import required libraries"
   ]
  },
  {
   "cell_type": "code",
   "execution_count": 155,
   "metadata": {},
   "outputs": [
    {
     "name": "stdout",
     "output_type": "stream",
     "text": [
      "Requirement already satisfied: folium in /opt/conda/envs/Python-3.7-main/lib/python3.7/site-packages (0.11.0)\n",
      "Requirement already satisfied: jinja2>=2.9 in /opt/conda/envs/Python-3.7-main/lib/python3.7/site-packages (from folium) (2.11.2)\n",
      "Requirement already satisfied: branca>=0.3.0 in /opt/conda/envs/Python-3.7-main/lib/python3.7/site-packages (from folium) (0.4.1)\n",
      "Requirement already satisfied: numpy in /opt/conda/envs/Python-3.7-main/lib/python3.7/site-packages (from folium) (1.18.5)\n",
      "Requirement already satisfied: requests in /opt/conda/envs/Python-3.7-main/lib/python3.7/site-packages (from folium) (2.24.0)\n",
      "Requirement already satisfied: MarkupSafe>=0.23 in /opt/conda/envs/Python-3.7-main/lib/python3.7/site-packages (from jinja2>=2.9->folium) (1.1.1)\n",
      "Requirement already satisfied: certifi>=2017.4.17 in /opt/conda/envs/Python-3.7-main/lib/python3.7/site-packages (from requests->folium) (2020.12.5)\n",
      "Requirement already satisfied: idna<3,>=2.5 in /opt/conda/envs/Python-3.7-main/lib/python3.7/site-packages (from requests->folium) (2.9)\n",
      "Requirement already satisfied: chardet<4,>=3.0.2 in /opt/conda/envs/Python-3.7-main/lib/python3.7/site-packages (from requests->folium) (3.0.4)\n",
      "Requirement already satisfied: urllib3!=1.25.0,!=1.25.1,<1.26,>=1.21.1 in /opt/conda/envs/Python-3.7-main/lib/python3.7/site-packages (from requests->folium) (1.25.9)\n",
      "All modules imported\n"
     ]
    }
   ],
   "source": [
    "from bs4 import BeautifulSoup\n",
    "import requests\n",
    "import pandas as pd\n",
    "import json\n",
    "from pandas.io.json import json_normalize  # transform json files to pandas dataframes\n",
    "from geopy.geocoders import Nominatim # \n",
    "import numpy as np\n",
    "import csv\n",
    "!pip install folium\n",
    "import folium\n",
    "\n",
    "print('All modules imported')"
   ]
  },
  {
   "cell_type": "markdown",
   "metadata": {},
   "source": [
    "# Let's start scraping the wikipedia page"
   ]
  },
  {
   "cell_type": "code",
   "execution_count": 156,
   "metadata": {},
   "outputs": [],
   "source": [
    "# The wikipedia site link\n",
    "site_link = 'https://en.wikipedia.org/wiki/List_of_postal_codes_of_Canada:_M'"
   ]
  },
  {
   "cell_type": "markdown",
   "metadata": {},
   "source": [
    "Get the source code html data from the website"
   ]
  },
  {
   "cell_type": "code",
   "execution_count": 157,
   "metadata": {},
   "outputs": [],
   "source": [
    "source = requests.get(site_link).text"
   ]
  },
  {
   "cell_type": "markdown",
   "metadata": {},
   "source": [
    "Lets Use BeautifulSoup to parse it"
   ]
  },
  {
   "cell_type": "code",
   "execution_count": 158,
   "metadata": {},
   "outputs": [],
   "source": [
    "soup = BeautifulSoup(source, 'lxml')\n",
    "\n",
    "#print(soup.prettify())"
   ]
  },
  {
   "cell_type": "markdown",
   "metadata": {},
   "source": [
    "Next let's get the table that contains the data we want to scrape"
   ]
  },
  {
   "cell_type": "code",
   "execution_count": 159,
   "metadata": {},
   "outputs": [],
   "source": [
    "My_table = soup.find('table',{'class':'wikitable sortable'})"
   ]
  },
  {
   "cell_type": "markdown",
   "metadata": {},
   "source": [
    "Let's view the table data"
   ]
  },
  {
   "cell_type": "code",
   "execution_count": 160,
   "metadata": {},
   "outputs": [],
   "source": [
    "# Uncomment below to view table\n",
    "# My_table"
   ]
  },
  {
   "cell_type": "markdown",
   "metadata": {},
   "source": [
    "we can see that all the data we want are between the $&lt;td&gt;$ brackets, let's get the data between the td brackets"
   ]
  },
  {
   "cell_type": "code",
   "execution_count": 161,
   "metadata": {},
   "outputs": [],
   "source": [
    "links = My_table.find_all('td')"
   ]
  },
  {
   "cell_type": "code",
   "execution_count": 162,
   "metadata": {},
   "outputs": [],
   "source": [
    "# uncomment below to view links\n",
    "# print(links)"
   ]
  },
  {
   "cell_type": "markdown",
   "metadata": {},
   "source": [
    "Next let's loop through links and extract only the text elements"
   ]
  },
  {
   "cell_type": "code",
   "execution_count": 163,
   "metadata": {},
   "outputs": [],
   "source": [
    "text_links = []\n",
    "\n",
    "for link in links:\n",
    "    text_links.append(link.text)\n",
    "    \n",
    "# uncommnet below to view text_links    \n",
    "#text_links"
   ]
  },
  {
   "cell_type": "markdown",
   "metadata": {},
   "source": [
    "let's clean and process the table elements\n",
    "Let's clean the links and keep only rows with Borough. Out of which we shall rename rows without Neighborhood as Boroughs"
   ]
  },
  {
   "cell_type": "code",
   "execution_count": 164,
   "metadata": {},
   "outputs": [],
   "source": [
    "cleaned_links = []\n",
    "\n",
    "while True:\n",
    "    \n",
    "    if len(text_links) < 3:\n",
    "        break\n",
    "    \n",
    "    sub = text_links[:3]\n",
    "    # If 'Not ' in borough then skip that row of data\n",
    "    if 'Not ' in sub[1]:\n",
    "        text_links = text_links[3:]\n",
    "    else:\n",
    "        cleaned_links.append(text_links[:3])\n",
    "        \n",
    "        # Let's strip off the \\n at the end of each neighborhood data\n",
    "        cleaned_links[-1][-1] = cleaned_links[-1][-1].strip('\\n')\n",
    "        \n",
    "        # If the Borough is available but the Neighborhood is missing\n",
    "        # make Neighborhood same as Borough\n",
    "        if 'Not ' in cleaned_links[-1][-1]:\n",
    "            cleaned_links[-1][-1] = cleaned_links[-1][-2]\n",
    "        text_links = text_links[3:]\n",
    "# Uncomment below to view cleaned_links       \n",
    "#cleaned_links"
   ]
  },
  {
   "cell_type": "markdown",
   "metadata": {},
   "source": [
    "lets check the length of the cleaned links"
   ]
  },
  {
   "cell_type": "code",
   "execution_count": 165,
   "metadata": {},
   "outputs": [
    {
     "data": {
      "text/plain": [
       "103"
      ]
     },
     "execution_count": 165,
     "metadata": {},
     "output_type": "execute_result"
    }
   ],
   "source": [
    "len(cleaned_links)"
   ]
  },
  {
   "cell_type": "markdown",
   "metadata": {},
   "source": [
    "Next let's add the neighborhood data of each duplicate Postal Codes together to the first instance or row that contains the PostalCode"
   ]
  },
  {
   "cell_type": "code",
   "execution_count": 166,
   "metadata": {},
   "outputs": [],
   "source": [
    "link = []\n",
    "for i in range(len(cleaned_links)):\n",
    "    x = cleaned_links[i][0]\n",
    "    if x in link:\n",
    "        cleaned_links[link.index(x)][-1] += ', ' + cleaned_links[i][-1]\n",
    "    link.append(x)\n",
    "    \n",
    "# uncomment below\n",
    "#cleaned_links"
   ]
  },
  {
   "cell_type": "markdown",
   "metadata": {},
   "source": [
    "Next let's pass the cleaned _links to a data frame and set index to postal code so that we can easily work on it"
   ]
  },
  {
   "cell_type": "code",
   "execution_count": 167,
   "metadata": {},
   "outputs": [],
   "source": [
    "df = pd.DataFrame(cleaned_links, columns=['PostalCode','Borough','Neighborhood'])\n",
    "df.index= df.PostalCode"
   ]
  },
  {
   "cell_type": "code",
   "execution_count": 168,
   "metadata": {},
   "outputs": [
    {
     "data": {
      "text/html": [
       "<div>\n",
       "<style scoped>\n",
       "    .dataframe tbody tr th:only-of-type {\n",
       "        vertical-align: middle;\n",
       "    }\n",
       "\n",
       "    .dataframe tbody tr th {\n",
       "        vertical-align: top;\n",
       "    }\n",
       "\n",
       "    .dataframe thead th {\n",
       "        text-align: right;\n",
       "    }\n",
       "</style>\n",
       "<table border=\"1\" class=\"dataframe\">\n",
       "  <thead>\n",
       "    <tr style=\"text-align: right;\">\n",
       "      <th></th>\n",
       "      <th>PostalCode</th>\n",
       "      <th>Borough</th>\n",
       "      <th>Neighborhood</th>\n",
       "    </tr>\n",
       "    <tr>\n",
       "      <th>PostalCode</th>\n",
       "      <th></th>\n",
       "      <th></th>\n",
       "      <th></th>\n",
       "    </tr>\n",
       "  </thead>\n",
       "  <tbody>\n",
       "    <tr>\n",
       "      <th>M3A\\n</th>\n",
       "      <td>M3A\\n</td>\n",
       "      <td>North York\\n</td>\n",
       "      <td>Parkwoods</td>\n",
       "    </tr>\n",
       "    <tr>\n",
       "      <th>M4A\\n</th>\n",
       "      <td>M4A\\n</td>\n",
       "      <td>North York\\n</td>\n",
       "      <td>Victoria Village</td>\n",
       "    </tr>\n",
       "    <tr>\n",
       "      <th>M5A\\n</th>\n",
       "      <td>M5A\\n</td>\n",
       "      <td>Downtown Toronto\\n</td>\n",
       "      <td>Regent Park, Harbourfront</td>\n",
       "    </tr>\n",
       "    <tr>\n",
       "      <th>M6A\\n</th>\n",
       "      <td>M6A\\n</td>\n",
       "      <td>North York\\n</td>\n",
       "      <td>Lawrence Manor, Lawrence Heights</td>\n",
       "    </tr>\n",
       "    <tr>\n",
       "      <th>M7A\\n</th>\n",
       "      <td>M7A\\n</td>\n",
       "      <td>Downtown Toronto\\n</td>\n",
       "      <td>Queen's Park, Ontario Provincial Government</td>\n",
       "    </tr>\n",
       "  </tbody>\n",
       "</table>\n",
       "</div>"
      ],
      "text/plain": [
       "           PostalCode             Borough  \\\n",
       "PostalCode                                  \n",
       "M3A\\n           M3A\\n        North York\\n   \n",
       "M4A\\n           M4A\\n        North York\\n   \n",
       "M5A\\n           M5A\\n  Downtown Toronto\\n   \n",
       "M6A\\n           M6A\\n        North York\\n   \n",
       "M7A\\n           M7A\\n  Downtown Toronto\\n   \n",
       "\n",
       "                                           Neighborhood  \n",
       "PostalCode                                               \n",
       "M3A\\n                                         Parkwoods  \n",
       "M4A\\n                                  Victoria Village  \n",
       "M5A\\n                         Regent Park, Harbourfront  \n",
       "M6A\\n                  Lawrence Manor, Lawrence Heights  \n",
       "M7A\\n       Queen's Park, Ontario Provincial Government  "
      ]
     },
     "execution_count": 168,
     "metadata": {},
     "output_type": "execute_result"
    }
   ],
   "source": [
    "# Let's view the data frame\n",
    "df.head()"
   ]
  },
  {
   "cell_type": "markdown",
   "metadata": {},
   "source": [
    "Next let's Use the pandas duplicate method to drop duplicate index"
   ]
  },
  {
   "cell_type": "code",
   "execution_count": 169,
   "metadata": {},
   "outputs": [],
   "source": [
    "df = df.loc[~df.index.duplicated(keep='first')]"
   ]
  },
  {
   "cell_type": "code",
   "execution_count": 170,
   "metadata": {},
   "outputs": [
    {
     "data": {
      "text/plain": [
       "(103, 3)"
      ]
     },
     "execution_count": 170,
     "metadata": {},
     "output_type": "execute_result"
    }
   ],
   "source": [
    "# Let's see the shape so far\n",
    "df.shape"
   ]
  },
  {
   "cell_type": "code",
   "execution_count": 171,
   "metadata": {},
   "outputs": [
    {
     "data": {
      "text/html": [
       "<div>\n",
       "<style scoped>\n",
       "    .dataframe tbody tr th:only-of-type {\n",
       "        vertical-align: middle;\n",
       "    }\n",
       "\n",
       "    .dataframe tbody tr th {\n",
       "        vertical-align: top;\n",
       "    }\n",
       "\n",
       "    .dataframe thead th {\n",
       "        text-align: right;\n",
       "    }\n",
       "</style>\n",
       "<table border=\"1\" class=\"dataframe\">\n",
       "  <thead>\n",
       "    <tr style=\"text-align: right;\">\n",
       "      <th></th>\n",
       "      <th>PostalCode</th>\n",
       "      <th>Borough</th>\n",
       "      <th>Neighborhood</th>\n",
       "    </tr>\n",
       "    <tr>\n",
       "      <th>PostalCode</th>\n",
       "      <th></th>\n",
       "      <th></th>\n",
       "      <th></th>\n",
       "    </tr>\n",
       "  </thead>\n",
       "  <tbody>\n",
       "    <tr>\n",
       "      <th>M3A\\n</th>\n",
       "      <td>M3A\\n</td>\n",
       "      <td>North York\\n</td>\n",
       "      <td>Parkwoods</td>\n",
       "    </tr>\n",
       "    <tr>\n",
       "      <th>M4A\\n</th>\n",
       "      <td>M4A\\n</td>\n",
       "      <td>North York\\n</td>\n",
       "      <td>Victoria Village</td>\n",
       "    </tr>\n",
       "    <tr>\n",
       "      <th>M5A\\n</th>\n",
       "      <td>M5A\\n</td>\n",
       "      <td>Downtown Toronto\\n</td>\n",
       "      <td>Regent Park, Harbourfront</td>\n",
       "    </tr>\n",
       "    <tr>\n",
       "      <th>M6A\\n</th>\n",
       "      <td>M6A\\n</td>\n",
       "      <td>North York\\n</td>\n",
       "      <td>Lawrence Manor, Lawrence Heights</td>\n",
       "    </tr>\n",
       "    <tr>\n",
       "      <th>M7A\\n</th>\n",
       "      <td>M7A\\n</td>\n",
       "      <td>Downtown Toronto\\n</td>\n",
       "      <td>Queen's Park, Ontario Provincial Government</td>\n",
       "    </tr>\n",
       "  </tbody>\n",
       "</table>\n",
       "</div>"
      ],
      "text/plain": [
       "           PostalCode             Borough  \\\n",
       "PostalCode                                  \n",
       "M3A\\n           M3A\\n        North York\\n   \n",
       "M4A\\n           M4A\\n        North York\\n   \n",
       "M5A\\n           M5A\\n  Downtown Toronto\\n   \n",
       "M6A\\n           M6A\\n        North York\\n   \n",
       "M7A\\n           M7A\\n  Downtown Toronto\\n   \n",
       "\n",
       "                                           Neighborhood  \n",
       "PostalCode                                               \n",
       "M3A\\n                                         Parkwoods  \n",
       "M4A\\n                                  Victoria Village  \n",
       "M5A\\n                         Regent Park, Harbourfront  \n",
       "M6A\\n                  Lawrence Manor, Lawrence Heights  \n",
       "M7A\\n       Queen's Park, Ontario Provincial Government  "
      ]
     },
     "execution_count": 171,
     "metadata": {},
     "output_type": "execute_result"
    }
   ],
   "source": [
    "df.head()"
   ]
  },
  {
   "cell_type": "markdown",
   "metadata": {},
   "source": [
    "Next let's reset the index back and drop the current index"
   ]
  },
  {
   "cell_type": "code",
   "execution_count": 173,
   "metadata": {},
   "outputs": [
    {
     "data": {
      "text/html": [
       "<div>\n",
       "<style scoped>\n",
       "    .dataframe tbody tr th:only-of-type {\n",
       "        vertical-align: middle;\n",
       "    }\n",
       "\n",
       "    .dataframe tbody tr th {\n",
       "        vertical-align: top;\n",
       "    }\n",
       "\n",
       "    .dataframe thead th {\n",
       "        text-align: right;\n",
       "    }\n",
       "</style>\n",
       "<table border=\"1\" class=\"dataframe\">\n",
       "  <thead>\n",
       "    <tr style=\"text-align: right;\">\n",
       "      <th></th>\n",
       "      <th>PostalCode</th>\n",
       "      <th>Borough</th>\n",
       "      <th>Neighborhood</th>\n",
       "    </tr>\n",
       "  </thead>\n",
       "  <tbody>\n",
       "    <tr>\n",
       "      <th>0</th>\n",
       "      <td>M3A\\n</td>\n",
       "      <td>North York\\n</td>\n",
       "      <td>Parkwoods</td>\n",
       "    </tr>\n",
       "    <tr>\n",
       "      <th>1</th>\n",
       "      <td>M4A\\n</td>\n",
       "      <td>North York\\n</td>\n",
       "      <td>Victoria Village</td>\n",
       "    </tr>\n",
       "    <tr>\n",
       "      <th>2</th>\n",
       "      <td>M5A\\n</td>\n",
       "      <td>Downtown Toronto\\n</td>\n",
       "      <td>Regent Park, Harbourfront</td>\n",
       "    </tr>\n",
       "    <tr>\n",
       "      <th>3</th>\n",
       "      <td>M6A\\n</td>\n",
       "      <td>North York\\n</td>\n",
       "      <td>Lawrence Manor, Lawrence Heights</td>\n",
       "    </tr>\n",
       "    <tr>\n",
       "      <th>4</th>\n",
       "      <td>M7A\\n</td>\n",
       "      <td>Downtown Toronto\\n</td>\n",
       "      <td>Queen's Park, Ontario Provincial Government</td>\n",
       "    </tr>\n",
       "    <tr>\n",
       "      <th>5</th>\n",
       "      <td>M9A\\n</td>\n",
       "      <td>Etobicoke\\n</td>\n",
       "      <td>Islington Avenue, Humber Valley Village</td>\n",
       "    </tr>\n",
       "    <tr>\n",
       "      <th>6</th>\n",
       "      <td>M1B\\n</td>\n",
       "      <td>Scarborough\\n</td>\n",
       "      <td>Malvern, Rouge</td>\n",
       "    </tr>\n",
       "    <tr>\n",
       "      <th>7</th>\n",
       "      <td>M3B\\n</td>\n",
       "      <td>North York\\n</td>\n",
       "      <td>Don Mills</td>\n",
       "    </tr>\n",
       "    <tr>\n",
       "      <th>8</th>\n",
       "      <td>M4B\\n</td>\n",
       "      <td>East York\\n</td>\n",
       "      <td>Parkview Hill, Woodbine Gardens</td>\n",
       "    </tr>\n",
       "    <tr>\n",
       "      <th>9</th>\n",
       "      <td>M5B\\n</td>\n",
       "      <td>Downtown Toronto\\n</td>\n",
       "      <td>Garden District, Ryerson</td>\n",
       "    </tr>\n",
       "    <tr>\n",
       "      <th>10</th>\n",
       "      <td>M6B\\n</td>\n",
       "      <td>North York\\n</td>\n",
       "      <td>Glencairn</td>\n",
       "    </tr>\n",
       "    <tr>\n",
       "      <th>11</th>\n",
       "      <td>M9B\\n</td>\n",
       "      <td>Etobicoke\\n</td>\n",
       "      <td>West Deane Park, Princess Gardens, Martin Grove, Islington, Cloverdale</td>\n",
       "    </tr>\n",
       "    <tr>\n",
       "      <th>12</th>\n",
       "      <td>M1C\\n</td>\n",
       "      <td>Scarborough\\n</td>\n",
       "      <td>Rouge Hill, Port Union, Highland Creek</td>\n",
       "    </tr>\n",
       "  </tbody>\n",
       "</table>\n",
       "</div>"
      ],
      "text/plain": [
       "   PostalCode             Borough  \\\n",
       "0       M3A\\n        North York\\n   \n",
       "1       M4A\\n        North York\\n   \n",
       "2       M5A\\n  Downtown Toronto\\n   \n",
       "3       M6A\\n        North York\\n   \n",
       "4       M7A\\n  Downtown Toronto\\n   \n",
       "5       M9A\\n         Etobicoke\\n   \n",
       "6       M1B\\n       Scarborough\\n   \n",
       "7       M3B\\n        North York\\n   \n",
       "8       M4B\\n         East York\\n   \n",
       "9       M5B\\n  Downtown Toronto\\n   \n",
       "10      M6B\\n        North York\\n   \n",
       "11      M9B\\n         Etobicoke\\n   \n",
       "12      M1C\\n       Scarborough\\n   \n",
       "\n",
       "                                                              Neighborhood  \n",
       "0                                                                Parkwoods  \n",
       "1                                                         Victoria Village  \n",
       "2                                                Regent Park, Harbourfront  \n",
       "3                                         Lawrence Manor, Lawrence Heights  \n",
       "4                              Queen's Park, Ontario Provincial Government  \n",
       "5                                  Islington Avenue, Humber Valley Village  \n",
       "6                                                           Malvern, Rouge  \n",
       "7                                                                Don Mills  \n",
       "8                                          Parkview Hill, Woodbine Gardens  \n",
       "9                                                 Garden District, Ryerson  \n",
       "10                                                               Glencairn  \n",
       "11  West Deane Park, Princess Gardens, Martin Grove, Islington, Cloverdale  \n",
       "12                                  Rouge Hill, Port Union, Highland Creek  "
      ]
     },
     "execution_count": 173,
     "metadata": {},
     "output_type": "execute_result"
    }
   ],
   "source": [
    "df.reset_index(drop=True, inplace=True)\n",
    "\n",
    "# Let's see the first few rows\n",
    "df.head(13)"
   ]
  },
  {
   "cell_type": "code",
   "execution_count": 174,
   "metadata": {},
   "outputs": [
    {
     "data": {
      "text/plain": [
       "(103, 3)"
      ]
     },
     "execution_count": 174,
     "metadata": {},
     "output_type": "execute_result"
    }
   ],
   "source": [
    "df.shape"
   ]
  },
  {
   "cell_type": "markdown",
   "metadata": {},
   "source": [
    "Appending the Latitude and Longitude data\n",
    "Let's define a simple method that we can apply to each Borough to get its Latitude and Longitude using the apply() method"
   ]
  },
  {
   "cell_type": "code",
   "execution_count": 175,
   "metadata": {},
   "outputs": [],
   "source": [
    "def latitude_longitude(Borough):\n",
    "    \"\"\" Method takes a Series object and returns\n",
    "    a list of Latitude and corresponding Longitude data,\n",
    "    using the geopy library.\n",
    "    This method also prints out the coordinate data\"\"\"\n",
    "    \n",
    "    address = Borough\n",
    "    \n",
    "    geolocator = Nominatim(user_agent=\"CA_explorer\")\n",
    "    location = geolocator.geocode(address)\n",
    "    latitude = location.latitude\n",
    "    longitude = location.longitude\n",
    "    print('The geograpical coordinate of {} are {}, {}.'.format(address, latitude, longitude))\n",
    "    return [latitude, longitude]"
   ]
  },
  {
   "cell_type": "markdown",
   "metadata": {},
   "source": [
    "Let's append the list containing corresponding lat and lon data to column Latitude"
   ]
  },
  {
   "cell_type": "code",
   "execution_count": 176,
   "metadata": {},
   "outputs": [
    {
     "name": "stdout",
     "output_type": "stream",
     "text": [
      "The geograpical coordinate of North York\n",
      " are 43.7543263, -79.44911696639593.\n",
      "The geograpical coordinate of North York\n",
      " are 43.7543263, -79.44911696639593.\n",
      "The geograpical coordinate of Downtown Toronto\n",
      " are 43.6541737, -79.38081164513409.\n",
      "The geograpical coordinate of North York\n",
      " are 43.7543263, -79.44911696639593.\n",
      "The geograpical coordinate of Downtown Toronto\n",
      " are 43.6541737, -79.38081164513409.\n",
      "The geograpical coordinate of Etobicoke\n",
      " are 43.6435559, -79.5656326.\n",
      "The geograpical coordinate of Scarborough\n",
      " are 54.2820009, -0.4011868.\n",
      "The geograpical coordinate of North York\n",
      " are 43.7543263, -79.44911696639593.\n",
      "The geograpical coordinate of East York\n",
      " are 43.699971000000005, -79.33251996261595.\n",
      "The geograpical coordinate of Downtown Toronto\n",
      " are 43.6541737, -79.38081164513409.\n",
      "The geograpical coordinate of North York\n",
      " are 43.7543263, -79.44911696639593.\n",
      "The geograpical coordinate of Etobicoke\n",
      " are 43.6435559, -79.5656326.\n",
      "The geograpical coordinate of Scarborough\n",
      " are 54.2820009, -0.4011868.\n",
      "The geograpical coordinate of North York\n",
      " are 43.7543263, -79.44911696639593.\n",
      "The geograpical coordinate of East York\n",
      " are 43.699971000000005, -79.33251996261595.\n",
      "The geograpical coordinate of Downtown Toronto\n",
      " are 43.6541737, -79.38081164513409.\n",
      "The geograpical coordinate of York\n",
      " are 53.9590555, -1.0815361.\n",
      "The geograpical coordinate of Etobicoke\n",
      " are 43.6435559, -79.5656326.\n",
      "The geograpical coordinate of Scarborough\n",
      " are 54.2820009, -0.4011868.\n",
      "The geograpical coordinate of East Toronto\n",
      " are 43.6247901, -79.3934918.\n",
      "The geograpical coordinate of Downtown Toronto\n",
      " are 43.6541737, -79.38081164513409.\n",
      "The geograpical coordinate of York\n",
      " are 53.9590555, -1.0815361.\n",
      "The geograpical coordinate of Scarborough\n",
      " are 54.2820009, -0.4011868.\n",
      "The geograpical coordinate of East York\n",
      " are 43.699971000000005, -79.33251996261595.\n",
      "The geograpical coordinate of Downtown Toronto\n",
      " are 43.6541737, -79.38081164513409.\n",
      "The geograpical coordinate of Downtown Toronto\n",
      " are 43.6541737, -79.38081164513409.\n",
      "The geograpical coordinate of Scarborough\n",
      " are 54.2820009, -0.4011868.\n",
      "The geograpical coordinate of North York\n",
      " are 43.7543263, -79.44911696639593.\n",
      "The geograpical coordinate of North York\n",
      " are 43.7543263, -79.44911696639593.\n",
      "The geograpical coordinate of East York\n",
      " are 43.699971000000005, -79.33251996261595.\n",
      "The geograpical coordinate of Downtown Toronto\n",
      " are 43.6541737, -79.38081164513409.\n",
      "The geograpical coordinate of West Toronto\n",
      " are 43.6534817, -79.3839347.\n",
      "The geograpical coordinate of Scarborough\n",
      " are 54.2820009, -0.4011868.\n",
      "The geograpical coordinate of North York\n",
      " are 43.7543263, -79.44911696639593.\n",
      "The geograpical coordinate of North York\n",
      " are 43.7543263, -79.44911696639593.\n",
      "The geograpical coordinate of East York\n",
      " are 43.699971000000005, -79.33251996261595.\n",
      "The geograpical coordinate of Downtown Toronto\n",
      " are 43.6541737, -79.38081164513409.\n",
      "The geograpical coordinate of West Toronto\n",
      " are 43.6534817, -79.3839347.\n",
      "The geograpical coordinate of Scarborough\n",
      " are 54.2820009, -0.4011868.\n",
      "The geograpical coordinate of North York\n",
      " are 43.7543263, -79.44911696639593.\n",
      "The geograpical coordinate of North York\n",
      " are 43.7543263, -79.44911696639593.\n",
      "The geograpical coordinate of East Toronto\n",
      " are 43.6247901, -79.3934918.\n",
      "The geograpical coordinate of Downtown Toronto\n",
      " are 43.6541737, -79.38081164513409.\n",
      "The geograpical coordinate of West Toronto\n",
      " are 43.6534817, -79.3839347.\n",
      "The geograpical coordinate of Scarborough\n",
      " are 54.2820009, -0.4011868.\n",
      "The geograpical coordinate of North York\n",
      " are 43.7543263, -79.44911696639593.\n",
      "The geograpical coordinate of North York\n",
      " are 43.7543263, -79.44911696639593.\n",
      "The geograpical coordinate of East Toronto\n",
      " are 43.6247901, -79.3934918.\n",
      "The geograpical coordinate of Downtown Toronto\n",
      " are 43.6541737, -79.38081164513409.\n",
      "The geograpical coordinate of North York\n",
      " are 43.7543263, -79.44911696639593.\n",
      "The geograpical coordinate of North York\n",
      " are 43.7543263, -79.44911696639593.\n",
      "The geograpical coordinate of Scarborough\n",
      " are 54.2820009, -0.4011868.\n",
      "The geograpical coordinate of North York\n",
      " are 43.7543263, -79.44911696639593.\n",
      "The geograpical coordinate of North York\n",
      " are 43.7543263, -79.44911696639593.\n",
      "The geograpical coordinate of East Toronto\n",
      " are 43.6247901, -79.3934918.\n",
      "The geograpical coordinate of North York\n",
      " are 43.7543263, -79.44911696639593.\n",
      "The geograpical coordinate of York\n",
      " are 53.9590555, -1.0815361.\n",
      "The geograpical coordinate of North York\n",
      " are 43.7543263, -79.44911696639593.\n",
      "The geograpical coordinate of Scarborough\n",
      " are 54.2820009, -0.4011868.\n",
      "The geograpical coordinate of North York\n",
      " are 43.7543263, -79.44911696639593.\n",
      "The geograpical coordinate of North York\n",
      " are 43.7543263, -79.44911696639593.\n",
      "The geograpical coordinate of Central Toronto\n",
      " are 43.6534817, -79.3839347.\n",
      "The geograpical coordinate of Central Toronto\n",
      " are 43.6534817, -79.3839347.\n",
      "The geograpical coordinate of York\n",
      " are 53.9590555, -1.0815361.\n",
      "The geograpical coordinate of York\n",
      " are 53.9590555, -1.0815361.\n",
      "The geograpical coordinate of Scarborough\n",
      " are 54.2820009, -0.4011868.\n",
      "The geograpical coordinate of North York\n",
      " are 43.7543263, -79.44911696639593.\n",
      "The geograpical coordinate of Central Toronto\n",
      " are 43.6534817, -79.3839347.\n",
      "The geograpical coordinate of Central Toronto\n",
      " are 43.6534817, -79.3839347.\n",
      "The geograpical coordinate of West Toronto\n",
      " are 43.6534817, -79.3839347.\n",
      "The geograpical coordinate of Etobicoke\n",
      " are 43.6435559, -79.5656326.\n",
      "The geograpical coordinate of Scarborough\n",
      " are 54.2820009, -0.4011868.\n",
      "The geograpical coordinate of North York\n",
      " are 43.7543263, -79.44911696639593.\n",
      "The geograpical coordinate of Central Toronto\n",
      " are 43.6534817, -79.3839347.\n",
      "The geograpical coordinate of Central Toronto\n",
      " are 43.6534817, -79.3839347.\n",
      "The geograpical coordinate of West Toronto\n",
      " are 43.6534817, -79.3839347.\n",
      "The geograpical coordinate of Mississauga\n",
      " are 43.5896231, -79.6443879.\n",
      "The geograpical coordinate of Etobicoke\n",
      " are 43.6435559, -79.5656326.\n",
      "The geograpical coordinate of Scarborough\n",
      " are 54.2820009, -0.4011868.\n",
      "The geograpical coordinate of Central Toronto\n",
      " are 43.6534817, -79.3839347.\n",
      "The geograpical coordinate of Downtown Toronto\n",
      " are 43.6541737, -79.38081164513409.\n",
      "The geograpical coordinate of West Toronto\n",
      " are 43.6534817, -79.3839347.\n",
      "The geograpical coordinate of Scarborough\n",
      " are 54.2820009, -0.4011868.\n",
      "The geograpical coordinate of Central Toronto\n",
      " are 43.6534817, -79.3839347.\n",
      "The geograpical coordinate of Downtown Toronto\n",
      " are 43.6541737, -79.38081164513409.\n",
      "The geograpical coordinate of Scarborough\n",
      " are 54.2820009, -0.4011868.\n",
      "The geograpical coordinate of Central Toronto\n",
      " are 43.6534817, -79.3839347.\n",
      "The geograpical coordinate of Downtown Toronto\n",
      " are 43.6541737, -79.38081164513409.\n",
      "The geograpical coordinate of Etobicoke\n",
      " are 43.6435559, -79.5656326.\n",
      "The geograpical coordinate of Etobicoke\n",
      " are 43.6435559, -79.5656326.\n",
      "The geograpical coordinate of Scarborough\n",
      " are 54.2820009, -0.4011868.\n",
      "The geograpical coordinate of Downtown Toronto\n",
      " are 43.6541737, -79.38081164513409.\n",
      "The geograpical coordinate of Downtown Toronto\n",
      " are 43.6541737, -79.38081164513409.\n",
      "The geograpical coordinate of Etobicoke\n",
      " are 43.6435559, -79.5656326.\n",
      "The geograpical coordinate of Etobicoke\n",
      " are 43.6435559, -79.5656326.\n",
      "The geograpical coordinate of Scarborough\n",
      " are 54.2820009, -0.4011868.\n",
      "The geograpical coordinate of Downtown Toronto\n",
      " are 43.6541737, -79.38081164513409.\n",
      "The geograpical coordinate of Downtown Toronto\n",
      " are 43.6541737, -79.38081164513409.\n",
      "The geograpical coordinate of Etobicoke\n",
      " are 43.6435559, -79.5656326.\n",
      "The geograpical coordinate of Downtown Toronto\n",
      " are 43.6541737, -79.38081164513409.\n",
      "The geograpical coordinate of East Toronto\n",
      " are 43.6247901, -79.3934918.\n",
      "The geograpical coordinate of Etobicoke\n",
      " are 43.6435559, -79.5656326.\n",
      "The geograpical coordinate of Etobicoke\n",
      " are 43.6435559, -79.5656326.\n"
     ]
    }
   ],
   "source": [
    "df['Latitude'] = df.Borough.apply(latitude_longitude)"
   ]
  },
  {
   "cell_type": "code",
   "execution_count": 177,
   "metadata": {},
   "outputs": [
    {
     "data": {
      "text/html": [
       "<div>\n",
       "<style scoped>\n",
       "    .dataframe tbody tr th:only-of-type {\n",
       "        vertical-align: middle;\n",
       "    }\n",
       "\n",
       "    .dataframe tbody tr th {\n",
       "        vertical-align: top;\n",
       "    }\n",
       "\n",
       "    .dataframe thead th {\n",
       "        text-align: right;\n",
       "    }\n",
       "</style>\n",
       "<table border=\"1\" class=\"dataframe\">\n",
       "  <thead>\n",
       "    <tr style=\"text-align: right;\">\n",
       "      <th></th>\n",
       "      <th>PostalCode</th>\n",
       "      <th>Borough</th>\n",
       "      <th>Neighborhood</th>\n",
       "      <th>Latitude</th>\n",
       "    </tr>\n",
       "  </thead>\n",
       "  <tbody>\n",
       "    <tr>\n",
       "      <th>0</th>\n",
       "      <td>M3A\\n</td>\n",
       "      <td>North York\\n</td>\n",
       "      <td>Parkwoods</td>\n",
       "      <td>[43.7543263, -79.44911696639593]</td>\n",
       "    </tr>\n",
       "    <tr>\n",
       "      <th>1</th>\n",
       "      <td>M4A\\n</td>\n",
       "      <td>North York\\n</td>\n",
       "      <td>Victoria Village</td>\n",
       "      <td>[43.7543263, -79.44911696639593]</td>\n",
       "    </tr>\n",
       "    <tr>\n",
       "      <th>2</th>\n",
       "      <td>M5A\\n</td>\n",
       "      <td>Downtown Toronto\\n</td>\n",
       "      <td>Regent Park, Harbourfront</td>\n",
       "      <td>[43.6541737, -79.38081164513409]</td>\n",
       "    </tr>\n",
       "    <tr>\n",
       "      <th>3</th>\n",
       "      <td>M6A\\n</td>\n",
       "      <td>North York\\n</td>\n",
       "      <td>Lawrence Manor, Lawrence Heights</td>\n",
       "      <td>[43.7543263, -79.44911696639593]</td>\n",
       "    </tr>\n",
       "    <tr>\n",
       "      <th>4</th>\n",
       "      <td>M7A\\n</td>\n",
       "      <td>Downtown Toronto\\n</td>\n",
       "      <td>Queen's Park, Ontario Provincial Government</td>\n",
       "      <td>[43.6541737, -79.38081164513409]</td>\n",
       "    </tr>\n",
       "  </tbody>\n",
       "</table>\n",
       "</div>"
      ],
      "text/plain": [
       "  PostalCode             Borough                                 Neighborhood  \\\n",
       "0      M3A\\n        North York\\n                                    Parkwoods   \n",
       "1      M4A\\n        North York\\n                             Victoria Village   \n",
       "2      M5A\\n  Downtown Toronto\\n                    Regent Park, Harbourfront   \n",
       "3      M6A\\n        North York\\n             Lawrence Manor, Lawrence Heights   \n",
       "4      M7A\\n  Downtown Toronto\\n  Queen's Park, Ontario Provincial Government   \n",
       "\n",
       "                           Latitude  \n",
       "0  [43.7543263, -79.44911696639593]  \n",
       "1  [43.7543263, -79.44911696639593]  \n",
       "2  [43.6541737, -79.38081164513409]  \n",
       "3  [43.7543263, -79.44911696639593]  \n",
       "4  [43.6541737, -79.38081164513409]  "
      ]
     },
     "execution_count": 177,
     "metadata": {},
     "output_type": "execute_result"
    }
   ],
   "source": [
    "# Lets see the updated data with Latitude containing lists of lats and lons data\n",
    "\n",
    "df.head()"
   ]
  },
  {
   "cell_type": "markdown",
   "metadata": {},
   "source": [
    "Next let's loop through the data frame and separate Latitude from Longitude and make lat and lons just numbers not lists"
   ]
  },
  {
   "cell_type": "code",
   "execution_count": 178,
   "metadata": {},
   "outputs": [],
   "source": [
    "lon_list = []\n",
    "for i, j in df.iterrows():\n",
    "    lon_list.append(j.Latitude[1])\n",
    "    j.Latitude = j.Latitude[0]\n",
    "    \n",
    "# next let's assign the lon_list as the value of the Longitude Column\n",
    "\n",
    "df['Longitude'] = lon_list"
   ]
  },
  {
   "cell_type": "code",
   "execution_count": 179,
   "metadata": {},
   "outputs": [
    {
     "data": {
      "text/html": [
       "<div>\n",
       "<style scoped>\n",
       "    .dataframe tbody tr th:only-of-type {\n",
       "        vertical-align: middle;\n",
       "    }\n",
       "\n",
       "    .dataframe tbody tr th {\n",
       "        vertical-align: top;\n",
       "    }\n",
       "\n",
       "    .dataframe thead th {\n",
       "        text-align: right;\n",
       "    }\n",
       "</style>\n",
       "<table border=\"1\" class=\"dataframe\">\n",
       "  <thead>\n",
       "    <tr style=\"text-align: right;\">\n",
       "      <th></th>\n",
       "      <th>PostalCode</th>\n",
       "      <th>Borough</th>\n",
       "      <th>Neighborhood</th>\n",
       "      <th>Latitude</th>\n",
       "      <th>Longitude</th>\n",
       "    </tr>\n",
       "  </thead>\n",
       "  <tbody>\n",
       "    <tr>\n",
       "      <th>0</th>\n",
       "      <td>M3A\\n</td>\n",
       "      <td>North York\\n</td>\n",
       "      <td>Parkwoods</td>\n",
       "      <td>43.7543</td>\n",
       "      <td>-79.449117</td>\n",
       "    </tr>\n",
       "    <tr>\n",
       "      <th>1</th>\n",
       "      <td>M4A\\n</td>\n",
       "      <td>North York\\n</td>\n",
       "      <td>Victoria Village</td>\n",
       "      <td>43.7543</td>\n",
       "      <td>-79.449117</td>\n",
       "    </tr>\n",
       "    <tr>\n",
       "      <th>2</th>\n",
       "      <td>M5A\\n</td>\n",
       "      <td>Downtown Toronto\\n</td>\n",
       "      <td>Regent Park, Harbourfront</td>\n",
       "      <td>43.6542</td>\n",
       "      <td>-79.380812</td>\n",
       "    </tr>\n",
       "    <tr>\n",
       "      <th>3</th>\n",
       "      <td>M6A\\n</td>\n",
       "      <td>North York\\n</td>\n",
       "      <td>Lawrence Manor, Lawrence Heights</td>\n",
       "      <td>43.7543</td>\n",
       "      <td>-79.449117</td>\n",
       "    </tr>\n",
       "    <tr>\n",
       "      <th>4</th>\n",
       "      <td>M7A\\n</td>\n",
       "      <td>Downtown Toronto\\n</td>\n",
       "      <td>Queen's Park, Ontario Provincial Government</td>\n",
       "      <td>43.6542</td>\n",
       "      <td>-79.380812</td>\n",
       "    </tr>\n",
       "    <tr>\n",
       "      <th>...</th>\n",
       "      <td>...</td>\n",
       "      <td>...</td>\n",
       "      <td>...</td>\n",
       "      <td>...</td>\n",
       "      <td>...</td>\n",
       "    </tr>\n",
       "    <tr>\n",
       "      <th>95</th>\n",
       "      <td>M1X\\n</td>\n",
       "      <td>Scarborough\\n</td>\n",
       "      <td>Upper Rouge</td>\n",
       "      <td>54.282</td>\n",
       "      <td>-0.401187</td>\n",
       "    </tr>\n",
       "    <tr>\n",
       "      <th>96</th>\n",
       "      <td>M4X\\n</td>\n",
       "      <td>Downtown Toronto\\n</td>\n",
       "      <td>St. James Town, Cabbagetown</td>\n",
       "      <td>43.6542</td>\n",
       "      <td>-79.380812</td>\n",
       "    </tr>\n",
       "    <tr>\n",
       "      <th>97</th>\n",
       "      <td>M5X\\n</td>\n",
       "      <td>Downtown Toronto\\n</td>\n",
       "      <td>First Canadian Place, Underground city</td>\n",
       "      <td>43.6542</td>\n",
       "      <td>-79.380812</td>\n",
       "    </tr>\n",
       "    <tr>\n",
       "      <th>98</th>\n",
       "      <td>M8X\\n</td>\n",
       "      <td>Etobicoke\\n</td>\n",
       "      <td>The Kingsway, Montgomery Road, Old Mill North</td>\n",
       "      <td>43.6436</td>\n",
       "      <td>-79.565633</td>\n",
       "    </tr>\n",
       "    <tr>\n",
       "      <th>99</th>\n",
       "      <td>M4Y\\n</td>\n",
       "      <td>Downtown Toronto\\n</td>\n",
       "      <td>Church and Wellesley</td>\n",
       "      <td>43.6542</td>\n",
       "      <td>-79.380812</td>\n",
       "    </tr>\n",
       "  </tbody>\n",
       "</table>\n",
       "<p>100 rows × 5 columns</p>\n",
       "</div>"
      ],
      "text/plain": [
       "   PostalCode             Borough  \\\n",
       "0       M3A\\n        North York\\n   \n",
       "1       M4A\\n        North York\\n   \n",
       "2       M5A\\n  Downtown Toronto\\n   \n",
       "3       M6A\\n        North York\\n   \n",
       "4       M7A\\n  Downtown Toronto\\n   \n",
       "..        ...                 ...   \n",
       "95      M1X\\n       Scarborough\\n   \n",
       "96      M4X\\n  Downtown Toronto\\n   \n",
       "97      M5X\\n  Downtown Toronto\\n   \n",
       "98      M8X\\n         Etobicoke\\n   \n",
       "99      M4Y\\n  Downtown Toronto\\n   \n",
       "\n",
       "                                     Neighborhood Latitude  Longitude  \n",
       "0                                       Parkwoods  43.7543 -79.449117  \n",
       "1                                Victoria Village  43.7543 -79.449117  \n",
       "2                       Regent Park, Harbourfront  43.6542 -79.380812  \n",
       "3                Lawrence Manor, Lawrence Heights  43.7543 -79.449117  \n",
       "4     Queen's Park, Ontario Provincial Government  43.6542 -79.380812  \n",
       "..                                            ...      ...        ...  \n",
       "95                                    Upper Rouge   54.282  -0.401187  \n",
       "96                    St. James Town, Cabbagetown  43.6542 -79.380812  \n",
       "97         First Canadian Place, Underground city  43.6542 -79.380812  \n",
       "98  The Kingsway, Montgomery Road, Old Mill North  43.6436 -79.565633  \n",
       "99                           Church and Wellesley  43.6542 -79.380812  \n",
       "\n",
       "[100 rows x 5 columns]"
      ]
     },
     "execution_count": 179,
     "metadata": {},
     "output_type": "execute_result"
    }
   ],
   "source": [
    "# let's view the changes\n",
    "\n",
    "df.head(100)"
   ]
  },
  {
   "cell_type": "code",
   "execution_count": 180,
   "metadata": {},
   "outputs": [
    {
     "data": {
      "text/plain": [
       "(103, 5)"
      ]
     },
     "execution_count": 180,
     "metadata": {},
     "output_type": "execute_result"
    }
   ],
   "source": [
    "df.shape"
   ]
  },
  {
   "cell_type": "code",
   "execution_count": null,
   "metadata": {},
   "outputs": [],
   "source": []
  },
  {
   "cell_type": "code",
   "execution_count": null,
   "metadata": {},
   "outputs": [],
   "source": []
  },
  {
   "cell_type": "code",
   "execution_count": null,
   "metadata": {},
   "outputs": [],
   "source": []
  },
  {
   "cell_type": "code",
   "execution_count": null,
   "metadata": {},
   "outputs": [],
   "source": []
  },
  {
   "cell_type": "code",
   "execution_count": null,
   "metadata": {},
   "outputs": [],
   "source": []
  },
  {
   "cell_type": "code",
   "execution_count": null,
   "metadata": {},
   "outputs": [],
   "source": []
  }
 ],
 "metadata": {
  "kernelspec": {
   "display_name": "Python 3.7",
   "language": "python",
   "name": "python3"
  },
  "language_info": {
   "codemirror_mode": {
    "name": "ipython",
    "version": 3
   },
   "file_extension": ".py",
   "mimetype": "text/x-python",
   "name": "python",
   "nbconvert_exporter": "python",
   "pygments_lexer": "ipython3",
   "version": "3.7.9"
  }
 },
 "nbformat": 4,
 "nbformat_minor": 1
}
