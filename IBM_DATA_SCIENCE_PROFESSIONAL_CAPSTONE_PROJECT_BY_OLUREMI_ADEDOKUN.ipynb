{
  "nbformat": 4,
  "nbformat_minor": 0,
  "metadata": {
    "colab": {
      "name": "IBM DATA SCIENCE PROFESSIONAL CAPSTONE PROJECT BY OLUREMI ADEDOKUN",
      "provenance": [],
      "authorship_tag": "ABX9TyNH2LP3k3bTq2zT+kPaPiQ/",
      "include_colab_link": true
    },
    "kernelspec": {
      "name": "python3",
      "display_name": "Python 3"
    }
  },
  "cells": [
    {
      "cell_type": "markdown",
      "metadata": {
        "id": "view-in-github",
        "colab_type": "text"
      },
      "source": [
        "<a href=\"https://colab.research.google.com/github/AdedokunOluremi/Coursera_Capstone/blob/master/IBM_DATA_SCIENCE_PROFESSIONAL_CAPSTONE_PROJECT_BY_OLUREMI_ADEDOKUN.ipynb\" target=\"_parent\"><img src=\"https://colab.research.google.com/assets/colab-badge.svg\" alt=\"Open In Colab\"/></a>"
      ]
    },
    {
      "cell_type": "code",
      "metadata": {
        "id": "tsB5GG1VZ3sE"
      },
      "source": [
        ""
      ],
      "execution_count": null,
      "outputs": []
    },
    {
      "cell_type": "markdown",
      "metadata": {
        "id": "2dgwQGl8aeAW"
      },
      "source": [
        "# **IBM APPLIED DATA SCIENCE CAPSTONE PROJECT (OLUREMI ATILADE ADEDOKUN)**\r\n",
        "\r\n",
        "### This Capstone-Project is a requirement to pass the IBM Data Science professional certificate taught by IBM via Coursera. <br>\r\n",
        "### It consist of the following courses:-\r\n",
        "1. [What is Data Science?](https://www.coursera.org/learn/what-is-datascience/home/welcome)\r\n",
        "2. [Open Source tools for Data Science](https://www.coursera.org/learn/open-source-tools-for-data-science/home/welcome)\r\n",
        "3. [Python for Data Science](https://www.coursera.org/learn/python-for-applied-data-science/home/welcome)\r\n",
        "4. [Data Science Methodology](https://www.coursera.org/learn/data-science-methodology/home/welcome)\r\n",
        "5. [Databases and SQL for Data Science](https://www.coursera.org/learn/sql-data-science/home/welcome)\r\n",
        "6. [Data Visualization with Python](https://www.coursera.org/learn/python-for-data-visualization/home/welcome)\r\n",
        "7. [Data Analysis with Python](https://www.coursera.org/learn/data-analysis-with-python/home/welcome)\r\n",
        "8. [Machine Learning with Python](https://www.coursera.org/learn/machine-learning-with-python/home/welcome)\r\n",
        "9. [Applied Data Science Capstone](https://www.coursera.org/learn/applied-data-science-capstone/home/welcome)"
      ]
    },
    {
      "cell_type": "markdown",
      "metadata": {
        "id": "xhyq2PcHacd3"
      },
      "source": [
        "<h2>Problem Description</h2>"
      ]
    },
    {
      "cell_type": "markdown",
      "metadata": {
        "id": "ozvQ1hbUaXdA"
      },
      "source": [
        "<h3>The problem I want to solve is using Geo-location Data to explore, segment and cluster neighborhoods in Lagos Nigeria to help a Tech-StartUp find the ideal location for its office in The City of Lagos Nigeria and also help a restaurant find an ideal location to open it's business.\r\n",
        "This office should be situated in a good location that has the following:-</h3><br>\r\n",
        "\r\n",
        "Centralized location.<br>\r\n",
        "Close proximity to Tech-Hubs and talent.<br>\r\n",
        "High feet traffic area for easy interaction with potential customers.<br>\r\n",
        "Nearness to Educational institutions for research and interactions with academics.<br>\r\n",
        "Nearness to cafes and restaurants for business meetings or lunch-meets.<br>\r\n",
        "Nearness to bus-stops, seaports and airports.<br>\r\n",
        "Security and safety.<br>\r\n",
        "Cluster of economic activities and similar or complementing businesses."
      ]
    },
    {
      "cell_type": "markdown",
      "metadata": {
        "id": "nP-u1ec-iTVE"
      },
      "source": [
        "<h2>Background to Problem</h2>"
      ]
    },
    {
      "cell_type": "markdown",
      "metadata": {
        "id": "Ymj2VAZQihx7"
      },
      "source": [
        "I lived in Lagos for four years. I worked with Flour Mills of Nigeria Plc. as a Milling Technologist. At that time, the company is the second largest flour milling company in the world and has more than ten fully automated Buhler mills and a daily capacity of more than 8000tons. <br>\r\n",
        "Lagos, sometimes referred to as Lagos State to distinguish it from Lagos Metropolitan Area, is a state located in southwestern Nigeria. The smallest in area of Nigeria's 36 states, Lagos State is arguably the most economically important state of the country, containing Lagos, the nation's largest urban area. It is a major financial centre and would be the fifth largest economy in Africa, if it were a country.\r\n",
        "\r\n",
        "It has the highest population density of Nigeria's states. The actual population total is disputed between the official Nigerian Census of 2006 and a much higher figure claimed by the Lagos State Government. Lagos State annual GDP is 1 trillion naira.\r\n",
        "\r\n",
        "Lagos State is bounded on the north and east by Ogun State. In the west it shares boundaries with the Republic of Benin. Behind its southern borders lies the Atlantic Ocean. 22% of its 3,577 km2 are lagoons and creeks.\r\n",
        "\r\n",
        "Victoria Island, the financial center of the metropolis, is known for its beach resorts, boutiques and nightlife. To the north, Lagos Island is home to the National Museum Lagos, displaying cultural artifacts and craftworks. Nearby is Freedom Park, once a colonial-era prison, now a major venue for concerts and public events. ([link](https://en.wikipedia.org/wiki/Lagos_State)).<br>\r\n",
        "I want to use this opportunity to help future startups and restaurants find the most ideal location in Lagos city for their business.\r\n"
      ]
    },
    {
      "cell_type": "markdown",
      "metadata": {
        "id": "U6Sy2gAmoEtX"
      },
      "source": [
        "<h2>Data Requirements and Overview</h2>"
      ]
    },
    {
      "cell_type": "markdown",
      "metadata": {
        "id": "BoSxal2PoIfe"
      },
      "source": [
        "**The Dataset is the wikipedia page of Lagos state** see [link](https://en.wikipedia.org/wiki/List_of_Lagos_State_local_government_areas_by_population)"
      ]
    },
    {
      "cell_type": "markdown",
      "metadata": {
        "id": "9ndsTck6onG2"
      },
      "source": [
        "We shall explore, segment and cluster Lagos city through its respective Local Government Areas or Boroughs. The above link is a web page that shows the respective boroughs in Lagos State and each population figure. It's a public Wikipedia data page.\r\n",
        "<br>This data will be analysed through the following steps:-\r\n",
        "<br>We shall scrape the web page using the beautiful soup library\r\n",
        "<br>We shall use The Foursquare API calls to retrieve geolocation data\r\n",
        "<br>We shall fetch the text data using the requests library\r\n",
        "<br>We shall convert it from JSON to Pandas data frame using the json_normalize module\r\n",
        "<br>We shall use The folium library to render the maps and plot these via The Matplotlib library. Then we shall explore respective boroughs and analyse each area as a location for a Tech-Startup based on the aforementioned parameters.\r\n",
        "<br>We shall be using Machine learning technique, K-means clustering(un-supervised learning for this analysis)\r\n",
        "<br>After this, we shall select our top location."
      ]
    },
    {
      "cell_type": "markdown",
      "metadata": {
        "id": "OrmIj-9Sq8s6"
      },
      "source": [
        "**Let's have some fun as we explore Lagos City**"
      ]
    }
  ]
}